{
 "cells": [
  {
   "cell_type": "markdown",
   "metadata": {},
   "source": [
    "## Difficult Python Code Challenges involving Functions\n",
    "\n",
    "This article will help you review Python functions by providing some code challenges involving functions.\n",
    "\n",
    "Some of these challenges are difficult! Take some time to think about them before starting to code.\n",
    "\n",
    "You might not get the solution correct on your first try — look at your output, try to find where you’re going wrong, and iterate on your solution."
   ]
  },
  {
   "cell_type": "markdown",
   "metadata": {},
   "source": [
    "### Challenges\n",
    "We’ve included 5 challenges below. Try to answer all of them and polish up your problem-solving skills!\n",
    "\n",
    "### 1. First Three Multiples\n",
    "\n",
    "Write a function named first_three_multiples() that has one parameter named num.\n",
    "\n",
    "This function should print the first three multiples of num. Then, it should return the third multiple.\n",
    "\n",
    "For example, first_three_multiples(7) should print 7, 14, and 21 on three different lines, and return 21."
   ]
  },
  {
   "cell_type": "code",
   "execution_count": 3,
   "metadata": {},
   "outputs": [],
   "source": [
    "# Write your first_three_multiples function here\n",
    "\n",
    "\n",
    "# Uncomment these function calls to test your first_three_multiples function:\n",
    "#first_three_multiples(10)\n",
    "# should print 10, 20, 30, and return 30\n",
    "#first_three_multiples(0)\n",
    "# should print 0, 0, 0, and return 0\n"
   ]
  },
  {
   "cell_type": "markdown",
   "metadata": {},
   "source": [
    "### 2. Tip\n",
    "\n",
    "Create a function called tip() that has two parameters named total and percentage.\n",
    "\n",
    "This function should return the amount you should tip given a total and the percentage you want to tip."
   ]
  },
  {
   "cell_type": "code",
   "execution_count": null,
   "metadata": {},
   "outputs": [],
   "source": [
    "# Write your tip function here:\n",
    "  \n",
    "# Uncomment these function calls to test your tip function:\n",
    "#print(tip(10, 25))\n",
    "# should print 2.5\n",
    "#print(tip(0, 100))\n",
    "# should print 0.0"
   ]
  },
  {
   "cell_type": "markdown",
   "metadata": {},
   "source": [
    "### 3. Bond, James Bond\n",
    "\n",
    "Write a function named introduction() that has two parameters named first_name and last_name.\n",
    "\n",
    "The function should return the last_name, followed by a comma, a space, first_name another space, and finally last_name."
   ]
  },
  {
   "cell_type": "code",
   "execution_count": null,
   "metadata": {},
   "outputs": [],
   "source": [
    "# Write your introduction function here:\n",
    "\n",
    "# Uncomment these function calls to test your introduction function:\n",
    "#print(introduction(\"James\", \"Bond\"))\n",
    "# should print Bond, James Bond\n",
    "#print(introduction(\"Maya\", \"Angelou\"))\n",
    "# should print Angelou, Maya Angelou"
   ]
  },
  {
   "cell_type": "markdown",
   "metadata": {},
   "source": [
    "### 4. Dog Years\n",
    "\n",
    "Some say that every one year of a human’s life is equivalent to seven years of a dog’s life. Write a function named dog_years() that has two parameters named name and age.\n",
    "\n",
    "The function should compute the age in dog years and return the following string:\n",
    "\n",
    "\"{name}, you are {age} years old in dog years\"\n",
    "\n",
    "Test this function with your name and your age!"
   ]
  },
  {
   "cell_type": "code",
   "execution_count": null,
   "metadata": {},
   "outputs": [],
   "source": [
    "# Write your dog_years function here:\n",
    "\n",
    "# Uncomment these function calls to test your dog_years function:\n",
    "#print(dog_years(\"Lola\", 16))\n",
    "# should print \"Lola, you are 112 years old in dog years\"\n",
    "#print(dog_years(\"Baby\", 0))\n",
    "# should print \"Baby, you are 0 years old in dog years\""
   ]
  },
  {
   "cell_type": "markdown",
   "metadata": {},
   "source": [
    "### 5. All Operations\n",
    "\n",
    "Create a function named lots_of_math(). This function should have four parameters named a, b, c, and d. The function should print 3 lines and return 1 value.\n",
    "\n",
    "First, print the sum of a and b.\n",
    "\n",
    "Second, print d subtracted from c.\n",
    "\n",
    "Third, print the first number printed, multiplied by the second number printed.\n",
    "\n",
    "Finally, return the third number printed modulo a.\n"
   ]
  },
  {
   "cell_type": "code",
   "execution_count": null,
   "metadata": {},
   "outputs": [],
   "source": [
    "# Write your lots_of_math function here:\n",
    "\n",
    "# Uncomment these function calls to test your lots_of_math function:\n",
    "#print(lots_of_math(1, 2, 3, 4))\n",
    "# should print 3, -1, -3, 0\n",
    "#print(lots_of_math(1, 1, 1, 1))\n",
    "# should print 2, 0, 0, 0"
   ]
  },
  {
   "cell_type": "code",
   "execution_count": null,
   "metadata": {},
   "outputs": [],
   "source": []
  },
  {
   "cell_type": "code",
   "execution_count": null,
   "metadata": {},
   "outputs": [],
   "source": []
  }
 ],
 "metadata": {
  "kernelspec": {
   "display_name": "Python 3",
   "language": "python",
   "name": "python3"
  },
  "language_info": {
   "codemirror_mode": {
    "name": "ipython",
    "version": 3
   },
   "file_extension": ".py",
   "mimetype": "text/x-python",
   "name": "python",
   "nbconvert_exporter": "python",
   "pygments_lexer": "ipython3",
   "version": "3.8.3"
  }
 },
 "nbformat": 4,
 "nbformat_minor": 4
}
