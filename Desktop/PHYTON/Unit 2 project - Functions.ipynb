{
 "cells": [
  {
   "cell_type": "markdown",
   "metadata": {},
   "source": [
    "## Python Functions: Medical Insurance Project\n",
    "You are curious about how certain factors such as age, sex, BMI, number of children, and smoking status contribute to medical insurance costs.\n",
    "\n",
    "You will apply your new knowledge of Python functions to write a useful function that calculates medical insurance costs.\n",
    "\n",
    "Let’s get started!"
   ]
  },
  {
   "cell_type": "markdown",
   "metadata": {},
   "source": [
    "### Creating a function\n",
    "1.\n",
    "First, take a look at the code in script.py.\n",
    "\n",
    "In this code, we estimate the medical insurance costs for two individuals, Maria and Omar, based on five variables:\n",
    "\n",
    "age: age of the individual in years\n",
    "    \n",
    "sex: 0 for female, 1 for male\n",
    "    \n",
    "bmi: individual’s body mass index\n",
    "    \n",
    "num_of_children: number of children the individual has\n",
    "    \n",
    "smoker: 0 for a non-smoker, 1 for a smoker\n",
    "    \n",
    "These variables are used in the following formula to estimate an individual’s insurance cost (in USD):\n",
    "\n",
    "insurance_cost = 250*age - 128*sex + 370*bmi + 425*num\\_of\\_children + 24000*smoker - 12500"
   ]
  },
  {
   "cell_type": "markdown",
   "metadata": {},
   "source": [
    "2. The code used to estimate insurance costs for Maria and Omar looks quite similar – in both cases we calculate the insurance cost using the same formula and then print the output.\n",
    "\n",
    "This code is a great candidate for a function because it involves repeating almost identical commands in multiple places.\n",
    "\n",
    "Let’s start by defining a function called calculate_insurance_cost() on line 2. For now, your function should not have any parameters or output."
   ]
  },
  {
   "cell_type": "code",
   "execution_count": null,
   "metadata": {},
   "outputs": [],
   "source": [
    "# Create calculate_insurance_cost() function below: \n",
    "\n"
   ]
  },
  {
   "cell_type": "markdown",
   "metadata": {},
   "source": [
    "3.\n",
    "Let’s outline the behavior we want our function to have. Inside of calculate_insurance_cost(), do the following:\n",
    "\n",
    "- Create a variable called estimated_cost. For now, set this variable equal to a value of 1000. You’ll add the full formula in the next step.\n",
    "- Add a print statement that prints estimated_cost. You should output a message similar to: \"The estimated insurance cost for this person is xxx dollars.\"\n",
    "- Return estimated_cost"
   ]
  },
  {
   "cell_type": "code",
   "execution_count": null,
   "metadata": {},
   "outputs": [],
   "source": []
  },
  {
   "cell_type": "markdown",
   "metadata": {},
   "source": [
    "4. Nice job – you’ve created a simple Python function that we’ll use to estimate medical insurance costs.\n",
    "\n",
    "However, the function currently returns a value of 1000. We want it to return our insurance cost formula instead.\n",
    "\n",
    "Modify the function definition so that it contains five parameters:\n",
    "\n",
    "- age\n",
    "- sex\n",
    "- bmi\n",
    "- num_of_children\n",
    "- smoker\n",
    "\n",
    "Take a look at the hint if you need a reminder on how to add parameters to a function definition."
   ]
  },
  {
   "cell_type": "code",
   "execution_count": null,
   "metadata": {},
   "outputs": [],
   "source": []
  },
  {
   "cell_type": "markdown",
   "metadata": {},
   "source": [
    "5. Now that we have set up the function to take inputs for each of the values needed in the insurance formula, we can make use of them inside of our function.\n",
    "\n",
    "In calculate_insurance_cost(), change the value of estimated_cost from 1000 to our formula for insurance cost.\n",
    "\n",
    "Remember that the formula for insurance cost is:\n",
    "\n",
    "250*age - 128*sex + 370*bmi + 425*num_of_children + 24000*smoker - 12500"
   ]
  },
  {
   "cell_type": "code",
   "execution_count": null,
   "metadata": {},
   "outputs": [],
   "source": []
  },
  {
   "cell_type": "markdown",
   "metadata": {},
   "source": [
    "6. The function is now properly set up to calculate an individual’s medical insurance costs based on the five variables passed into it. Let’s test this out!\n",
    "\n",
    "Go to the section of code that estimates Maria’s insurance cost.\n",
    "\n",
    "Rename insurance_cost as maria_insurance_cost and set it equal to calculate_insurance_cost() with the appropriate values for Maria as arguments.\n",
    "\n",
    "7. Now, remove the print statement for Maria since our function will take care of printing the estimated cost for us.\n",
    "\n",
    "Additionally, remove the five lines of code defining the initial variables for Maria, as we are now passing in these values directly in the function call."
   ]
  },
  {
   "cell_type": "code",
   "execution_count": null,
   "metadata": {},
   "outputs": [],
   "source": [
    "# Initial variables for Maria \n",
    "age = 28\n",
    "sex = 0  \n",
    "bmi = 26.2\n",
    "num_of_children = 3\n",
    "smoker = 0  \n",
    "\n",
    "# Estimate Maria's insurance cost\n",
    "insurance_cost = 250*age - 128*sex + 370*bmi + 425*num_of_children + 24000*smoker - 12500\n",
    "\n",
    "print(\"The estimated insurance cost for Maria is \" + str(insurance_cost) + \" dollars.\")\n",
    "\n"
   ]
  },
  {
   "cell_type": "markdown",
   "metadata": {},
   "source": [
    "8. Repeat steps 6-7 for Omar:\n",
    "\n",
    " - Rename insurance_cost as omar_insurance_cost and set it equal to the calculate_insurance_cost() function, passing in the appropriate values as arguments.\n",
    " - Remove the initial variables and print statement for Omar.\n",
    " \n",
    "Notice how much cleaner our code is now! By utilizing a Python function, we were able to condense many lines of code into just a few."
   ]
  },
  {
   "cell_type": "code",
   "execution_count": null,
   "metadata": {},
   "outputs": [],
   "source": [
    "# Initial variables for Omar\n",
    "age = 35\n",
    "sex = 1 \n",
    "bmi = 22.2\n",
    "num_of_children = 0\n",
    "smoker = 1  \n",
    "\n",
    "# Estimate Omar's insurance cost \n",
    "insurance_cost = 250*age - 128*sex + 370*bmi + 425*num_of_children + 24000*smoker - 12500\n",
    "\n",
    "print(\"The estimated insurance cost for Omar is \" + str(insurance_cost) + \" dollars.\")"
   ]
  },
  {
   "cell_type": "markdown",
   "metadata": {},
   "source": [
    "### Adding new parameters\n",
    "9.\n",
    "Click “Save” to see the estimated insurance costs for Maria and Omar as calculated by your function.\n",
    "\n",
    "In the output terminal, notice that it says \"The estimated insurance cost for this person is...\" but it does not specify the actual name of the person.\n",
    "\n",
    "To fix this, begin by adding an additional parameter called name to the function definition."
   ]
  },
  {
   "cell_type": "code",
   "execution_count": null,
   "metadata": {},
   "outputs": [],
   "source": []
  },
  {
   "cell_type": "markdown",
   "metadata": {},
   "source": [
    "10. Next, modify the print statement in the function so that it includes the new name parameter, replacing \"this person\" with the actual name of the person."
   ]
  },
  {
   "cell_type": "code",
   "execution_count": null,
   "metadata": {},
   "outputs": [],
   "source": []
  },
  {
   "cell_type": "markdown",
   "metadata": {},
   "source": [
    "11.We must also update our function calls, passing in the name variable as an argument.\n",
    "\n",
    "Update the function call for maria_insurance_cost, passing in name = \"Maria\" as an argument.\n",
    "\n",
    "Do the same for Omar, passing in name = \"Omar\".\n",
    "\n",
    "Now if you click “Save”, you’ll see that our function is able to write a more personalized message specifying the name of the individual it is estimating insurance costs for. Pretty neat, right?"
   ]
  },
  {
   "cell_type": "code",
   "execution_count": null,
   "metadata": {},
   "outputs": [],
   "source": []
  },
  {
   "cell_type": "markdown",
   "metadata": {},
   "source": [
    "### Estimating your own insurance cost\n",
    "12.\n",
    "In this example, we calculated the insurance costs for two individuals, but with our new code we can easily extend this to thousands or even millions of individuals.\n",
    "\n",
    "To illustrate, estimate your own insurance cost.\n",
    "\n",
    "At the bottom of your code, create a new insurance_cost variable for yourself, similar to how we did it for Maria and Omar.\n",
    "\n",
    "Set the variable equal to a function call to calculate_insurance_cost(), passing in your own name, age, sex, bmi, number of children, and smoker status.\n"
   ]
  },
  {
   "cell_type": "code",
   "execution_count": null,
   "metadata": {},
   "outputs": [],
   "source": []
  },
  {
   "cell_type": "markdown",
   "metadata": {},
   "source": [
    "### Extra\n",
    "13. Congratulations! In this project, you created a useful function that calculates medical insurance costs based on the values passed into the function. Great job!\n",
    "\n",
    "As a data scientist, you should always strive to make your code more clean and modular. Using functions to avoid repetitive code is a great way to do just that.\n",
    "\n",
    "Now it’s your turn! If you’d like extra practice with Python functions, here are some suggestions to get you started:\n",
    "\n",
    "Modify the calculate_insurance_cost() function so that it returns two values – the output message and the estimated cost.\n",
    "Create a second function to calculate the difference between the insurance costs (given as inputs) of any two individuals and print a statement saying: \"The difference in insurance cost is xxx dollars.\""
   ]
  },
  {
   "cell_type": "code",
   "execution_count": null,
   "metadata": {},
   "outputs": [],
   "source": []
  }
 ],
 "metadata": {
  "kernelspec": {
   "display_name": "Python 3",
   "language": "python",
   "name": "python3"
  },
  "language_info": {
   "codemirror_mode": {
    "name": "ipython",
    "version": 3
   },
   "file_extension": ".py",
   "mimetype": "text/x-python",
   "name": "python",
   "nbconvert_exporter": "python",
   "pygments_lexer": "ipython3",
   "version": "3.8.3"
  }
 },
 "nbformat": 4,
 "nbformat_minor": 4
}
