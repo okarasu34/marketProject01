{
 "cells": [
  {
   "cell_type": "markdown",
   "metadata": {},
   "source": [
    "## What is a Function ?\n",
    "\n",
    "Let’s imagine that we are creating a program that greets customers as they enter a grocery store. We want a big screen at the entrance of the store to say:\n",
    "\n",
    "<mark>Welcome to Engrossing Grocers.\n",
    "    \n",
    "<mark>Our special is mandarin oranges.\n",
    "\n",
    "<mark>Have fun shopping!\n",
    "    \n",
    "We have learned to use print statements for this purpose:\n",
    "    \n",
    "#### Example"
   ]
  },
  {
   "cell_type": "code",
   "execution_count": null,
   "metadata": {},
   "outputs": [],
   "source": [
    "print(\"Welcome to Engrossing Grocers.\")\n",
    "print(\"Our special is mandarin oranges.\")\n",
    "print(\"Have fun shopping!\")"
   ]
  },
  {
   "cell_type": "markdown",
   "metadata": {},
   "source": [
    "Every time a customer enters, we call these three lines of code. Even if only 3 or 4 customers come in, that’s a lot of lines of code required.\n",
    "\n",
    "In Python, we can make this process easier by assigning these lines of code to a function. We’ll name this function <mark>greet_customer</mark>. In order to call a function, we use the syntax <mark>function_name()</mark>. The parentheses are important! They make the code inside the function run. In this example, the function call looks like:\n",
    "\n",
    "<mark>greet_customer()</mark>"
   ]
  },
  {
   "cell_type": "markdown",
   "metadata": {},
   "source": [
    "#### Application\n",
    "\n",
    "1. We have made a function for you called sing_song. Call this function once to see what it prints out."
   ]
  },
  {
   "cell_type": "code",
   "execution_count": null,
   "metadata": {},
   "outputs": [],
   "source": [
    "def sing_song():\n",
    "    print(\"You may say I'm a dreamer\")\n",
    "    print(\"But I'm not the only one\")\n",
    "    print(\"I hope some day you'll join us\")\n",
    "    print(\"And the world will be as one\")\n",
    "  \n",
    "# call sing_song() below:"
   ]
  },
  {
   "cell_type": "markdown",
   "metadata": {},
   "source": [
    "2. Now call sing_song a second time."
   ]
  },
  {
   "cell_type": "markdown",
   "metadata": {},
   "source": [
    "#### The link to he song\n",
    "Here is the link to listen to the song\n",
    "\n",
    "https://www.youtube.com/watch?v=4-cALFehvvI\n"
   ]
  },
  {
   "cell_type": "markdown",
   "metadata": {},
   "source": [
    "\n",
    "#### Question\n",
    "In general, when should functions be created in the code?\n",
    "\n",
    "#### Answer\n",
    "It is usually best to create a function if some process or calculations in code have to be repeated multiple times.\n",
    "\n",
    "Creating a function will save you time from having to rewrite code lines over and over, by only having to write them once within the function. Furthermore, this can keep the code cleaner and more concise, which also will improve maintainability of the code, since we would only have to look at the code in the function one time when debugging."
   ]
  },
  {
   "cell_type": "markdown",
   "metadata": {},
   "source": [
    "## Write a Function\n",
    "We have seen the value of simple functions for modularizing code. Now we need to understand how to write a function. To write a function, you must have a heading and an indented block of code. The heading starts with the keyword def and the name of the function, followed by parentheses, and a colon. The indented block of code performs some sort of operation. This syntax looks like:"
   ]
  },
  {
   "cell_type": "code",
   "execution_count": null,
   "metadata": {},
   "outputs": [],
   "source": [
    "def function_name():\n",
    "    some code"
   ]
  },
  {
   "cell_type": "markdown",
   "metadata": {},
   "source": [
    "For our <mark>greet_customer()</mark> example, the function definition looks like"
   ]
  },
  {
   "cell_type": "code",
   "execution_count": null,
   "metadata": {},
   "outputs": [],
   "source": [
    "def greet_customer():\n",
    "    print(\"Welcome to Engrossing Grocers.\")\n",
    "    print(\"Our special is mandarin oranges.\")\n",
    "    print(\"Have fun shopping!\")\n",
    " \n",
    "greet_customer()\n",
    "# prints greeting lines"
   ]
  },
  {
   "cell_type": "markdown",
   "metadata": {},
   "source": [
    "The keyword def tells Python that we are defining a function. This function is called greet_customer. Everything that is indented after the : is what is run when greet_customer() is called. So every time we call greet_customer(), the three print statements run."
   ]
  },
  {
   "cell_type": "markdown",
   "metadata": {},
   "source": [
    "#### Application\n",
    "1. Write a function called loading_screen that prints \"This page is loading...\" to the console"
   ]
  },
  {
   "cell_type": "code",
   "execution_count": null,
   "metadata": {},
   "outputs": [],
   "source": []
  },
  {
   "cell_type": "markdown",
   "metadata": {},
   "source": [
    "2. Outside of the function body (unindented), call loading_screen()"
   ]
  },
  {
   "cell_type": "code",
   "execution_count": null,
   "metadata": {},
   "outputs": [],
   "source": []
  },
  {
   "cell_type": "markdown",
   "metadata": {},
   "source": [
    "## Whitespace\n",
    "Consider this function:"
   ]
  },
  {
   "cell_type": "code",
   "execution_count": null,
   "metadata": {},
   "outputs": [],
   "source": [
    "def greet_customer():\n",
    "    print(\"Welcome to Engrossing Grocers.\")\n",
    "    print(\"Our special is mandarin oranges.\")\n",
    "    print(\"Have fun shopping!\")"
   ]
  },
  {
   "cell_type": "markdown",
   "metadata": {},
   "source": [
    "The three print statements are all executed together when greet_customer() is called. This is because they have the same level of indentation. In Python, the amount of whitespace tells the computer what is part of a function and what is not part of that function. If we wanted to write another line outside of greet_customer(), we would have to unindent the new line:"
   ]
  },
  {
   "cell_type": "code",
   "execution_count": null,
   "metadata": {},
   "outputs": [],
   "source": [
    "def greet_customer():\n",
    "    print(\"Welcome to Engrossing Grocers.\")\n",
    "    print(\"Our special is mandarin oranges.\")\n",
    "    print(\"Have fun shopping!\")\n",
    "print(\"Cleanup on Aisle 6\")\n",
    "greet_customer()\n",
    "greet_customer()"
   ]
  },
  {
   "cell_type": "markdown",
   "metadata": {},
   "source": [
    "When we run this program, the message \"Cleanup on Aisle 6\" will be printed once, while the messages in greet_customer() will all be printed twice. This is because we call the function twice, and \"Cleanup on Aisle 6\" is not part of the function. Notice also that \"Cleanup on Aisle 6\" will be printed before the greet_customer() messages since we call the function after it. We would see the following output from this program:"
   ]
  },
  {
   "cell_type": "markdown",
   "metadata": {},
   "source": [
    "Many platforms use 4 spaces. Some people even use tabs! These are all fine. What is important is being consistent throughout the project.\n",
    "\n",
    "#### Application\n",
    "1. Look at what is printed out!"
   ]
  },
  {
   "cell_type": "code",
   "execution_count": null,
   "metadata": {},
   "outputs": [],
   "source": [
    "\n",
    "\n",
    "def about_this_computer():\n",
    "    print(\"This computer is running on version Everest Puma\")\n",
    "    print(\"This is your desktop\")\n",
    "\n",
    "about_this_computer()"
   ]
  },
  {
   "cell_type": "markdown",
   "metadata": {},
   "source": [
    "2. Remove the indent on the second print statement. Run the file. Now what’s printed?"
   ]
  },
  {
   "cell_type": "markdown",
   "metadata": {},
   "source": [
    "## Parameters\n",
    "\n",
    "Let’s return to Engrossing Grocers. The special of the day will not always be mandarin oranges, it will change every day. What if we wanted to call these three print statements again, except with a variable special? We can use parameters, which are variables that you can pass into the function when you call it."
   ]
  },
  {
   "cell_type": "code",
   "execution_count": null,
   "metadata": {},
   "outputs": [],
   "source": [
    "def greet_customer(special_item):\n",
    "    print(\"Welcome to Engrossing Grocers.\")\n",
    "    print(\"Our special is \" + special_item + \".\")\n",
    "    print(\"Have fun shopping!\")"
   ]
  },
  {
   "cell_type": "markdown",
   "metadata": {},
   "source": [
    "In the definition heading for greet_customer(), the special_item is referred to as a formal parameter. This variable name is a placeholder for the name of the item that is the grocery’s special today. Now, when we call greet_customer, we have to provide a special_item:"
   ]
  },
  {
   "cell_type": "code",
   "execution_count": null,
   "metadata": {},
   "outputs": [],
   "source": [
    "greet_customer(\"peanut butter\")"
   ]
  },
  {
   "cell_type": "markdown",
   "metadata": {},
   "source": [
    "The value between the parentheses when we call the function (in this case, \"peanut butter\") is referred to as an argument of the function call. The argument is the information that is to be used in the execution of the function. When we then call the function, Python assigns the formal parameter name special_item with the actual parameter data, \"peanut_butter\". In other words, it is as if this line was included at the top of the function:"
   ]
  },
  {
   "cell_type": "markdown",
   "metadata": {},
   "source": [
    "special_item = \"peanut butter\""
   ]
  },
  {
   "cell_type": "markdown",
   "metadata": {},
   "source": [
    "#### Application\n",
    "1. The function mult_two_add_three() prints a number multiplied by 2 and added to 3. As it is written right now, the number that it operates on is always 5.\n",
    "\n",
    "Call the function and see what it prints to the console.\n"
   ]
  },
  {
   "cell_type": "code",
   "execution_count": null,
   "metadata": {},
   "outputs": [],
   "source": [
    "def mult_two_add_three():\n",
    "    number = 5\n",
    "    print(number*2 + 3)\n",
    "  \n",
    "# Call mult_two_add_three() here:\n"
   ]
  },
  {
   "cell_type": "markdown",
   "metadata": {},
   "source": [
    "2. Now, modify the function definition so that it has a parameter called number. Then delete the number = 5 assignment on the first line of the function.\n",
    "\n",
    "Pass the number 1 into your function call."
   ]
  },
  {
   "cell_type": "code",
   "execution_count": null,
   "metadata": {},
   "outputs": [],
   "source": []
  },
  {
   "cell_type": "markdown",
   "metadata": {},
   "source": [
    "3. Call the function with the value 5 as the argument.\n",
    "\n"
   ]
  },
  {
   "cell_type": "code",
   "execution_count": null,
   "metadata": {},
   "outputs": [],
   "source": []
  },
  {
   "cell_type": "markdown",
   "metadata": {},
   "source": [
    "4. Call the function with the value -1 as the argument."
   ]
  },
  {
   "cell_type": "code",
   "execution_count": null,
   "metadata": {},
   "outputs": [],
   "source": []
  },
  {
   "cell_type": "markdown",
   "metadata": {},
   "source": [
    "5. Call the function with the value 0 as the argument."
   ]
  },
  {
   "cell_type": "code",
   "execution_count": null,
   "metadata": {},
   "outputs": [],
   "source": []
  },
  {
   "cell_type": "markdown",
   "metadata": {},
   "source": [
    "### Multiple Parameters\n",
    "Our grocery greeting system has gotten popular, and now other supermarkets want to use it. As such, we want to be able to modify both the special item and the name of the grocery store in a greeting like this:\n",
    "\n",
    "We can make a function take more than one parameter by using commas:\n"
   ]
  },
  {
   "cell_type": "code",
   "execution_count": null,
   "metadata": {},
   "outputs": [],
   "source": [
    "def greet_customer(grocery_store, special_item):\n",
    "    print(\"Welcome to \"+ grocery_store + \".\")\n",
    "    print(\"Our special is \" + special_item + \".\")\n",
    "    print(\"Have fun shopping!\")"
   ]
  },
  {
   "cell_type": "markdown",
   "metadata": {},
   "source": [
    "The variables grocery_store and special_item must now both be provided to the function upon calling it:"
   ]
  },
  {
   "cell_type": "code",
   "execution_count": null,
   "metadata": {},
   "outputs": [],
   "source": [
    "# Call the function with the given variable values\n",
    "greet_customer(\"Stu's Staples\", \"papayas\")"
   ]
  },
  {
   "cell_type": "markdown",
   "metadata": {},
   "source": [
    "#### Application\n",
    "1. The function mult_two_add_three takes a number, multiplies it by two and adds three. We want to make this more flexible. First, change the name of the function to mult_x_add_y."
   ]
  },
  {
   "cell_type": "code",
   "execution_count": null,
   "metadata": {},
   "outputs": [],
   "source": []
  },
  {
   "cell_type": "markdown",
   "metadata": {},
   "source": [
    "2. Now, add x and y as parameters of the function, after number."
   ]
  },
  {
   "cell_type": "code",
   "execution_count": null,
   "metadata": {},
   "outputs": [],
   "source": []
  },
  {
   "cell_type": "markdown",
   "metadata": {},
   "source": [
    "3. Inside the function, replace 2 in the print statement with x, and replace 3 in the print statement with y."
   ]
  },
  {
   "cell_type": "code",
   "execution_count": null,
   "metadata": {},
   "outputs": [],
   "source": []
  },
  {
   "cell_type": "markdown",
   "metadata": {},
   "source": [
    "4. Call the function with these values:\n",
    "\n",
    "number: 5\n",
    "\n",
    "x: 2\n",
    "\n",
    "y: 3\n",
    "\n",
    "Note: make sure that your function call is not indented like the contents of the function!"
   ]
  },
  {
   "cell_type": "code",
   "execution_count": null,
   "metadata": {},
   "outputs": [],
   "source": []
  },
  {
   "cell_type": "markdown",
   "metadata": {},
   "source": [
    "5. Call the function with these values:\n",
    "\n",
    "number: 1\n",
    "\n",
    "x: 3\n",
    "\n",
    "y: 1"
   ]
  },
  {
   "cell_type": "code",
   "execution_count": null,
   "metadata": {},
   "outputs": [],
   "source": []
  },
  {
   "cell_type": "markdown",
   "metadata": {},
   "source": [
    "#### Question\n",
    "Will a function still work if there are parameters, but some of them are never used within the function itself?\n",
    "\n",
    "Answer\n",
    "Functions will still work as normal even if none of the parameters are actually used within the function code itself.\n",
    "\n",
    "However, doing this may be counterintuitive, as the purpose of parameters is to allow different input values to be used when running a function to produce results based on the input. Not using some of the parameters means that although the input value must be provided in the function call, it’s not used, so it can be a waste of space or memory.\n",
    "\n",
    "#### Example\n"
   ]
  },
  {
   "cell_type": "code",
   "execution_count": null,
   "metadata": {},
   "outputs": [],
   "source": [
    "# This function takes 3 parameters, but only uses \n",
    "# 2 of them in its code.\n",
    "def add_two(a, b, c):\n",
    "    return a + b\n",
    "\n",
    "# The call still requires inputs for each parameter.\n",
    "add_two(10, 30, 50) # returns 40"
   ]
  },
  {
   "cell_type": "markdown",
   "metadata": {},
   "source": [
    "## Keyword Arguments\n",
    "In our greet_customer() function from the last exercise, we had two arguments:"
   ]
  },
  {
   "cell_type": "code",
   "execution_count": null,
   "metadata": {},
   "outputs": [],
   "source": [
    "def greet_customer(grocery_store, special_item):\n",
    "    print(\"Welcome to \"+ grocery_store + \".\")\n",
    "    print(\"Our special is \" + special_item + \".\")\n",
    "    print(\"Have fun shopping!\")"
   ]
  },
  {
   "cell_type": "markdown",
   "metadata": {},
   "source": [
    "Whichever value is put into greet_customer() first is assigned to grocery_store, and whichever value is put in second is assigned to special_item. These are called positional arguments because their assignments depend on their positions in the function call.\n",
    "\n",
    "We can also pass these arguments as keyword arguments, where we explicitly refer to what each argument is assigned to in the function call."
   ]
  },
  {
   "cell_type": "code",
   "execution_count": null,
   "metadata": {},
   "outputs": [],
   "source": [
    "greet_customer(special_item=\"chips and salsa\", grocery_store=\"Stu's Staples\")"
   ]
  },
  {
   "cell_type": "markdown",
   "metadata": {},
   "source": [
    "We can use keyword arguments to make it explicit what each of our arguments to a function should refer to in the body of the function itself.\n",
    "\n",
    "We can also define default arguments for a function using syntax very similar to our keyword-argument syntax, but used during the function definition. If the function is called without an argument for that parameter, it relies on the default."
   ]
  },
  {
   "cell_type": "code",
   "execution_count": null,
   "metadata": {},
   "outputs": [],
   "source": [
    "def greet_customer(special_item, grocery_store=\"Engrossing Grocers\"):\n",
    "    print(\"Welcome to \"+ grocery_store + \".\")\n",
    "    print(\"Our special is \" + special_item + \".\")\n",
    "    print(\"Have fun shopping!\")"
   ]
  },
  {
   "cell_type": "markdown",
   "metadata": {},
   "source": [
    "In this case, grocery_store has a default value of \"Engrossing Grocers\". If we call the function with only one argument, the value of \"Engrossing Grocers\" is used for grocery_store:"
   ]
  },
  {
   "cell_type": "code",
   "execution_count": null,
   "metadata": {},
   "outputs": [],
   "source": [
    "greet_customer(\"bananas\")"
   ]
  },
  {
   "cell_type": "markdown",
   "metadata": {},
   "source": [
    "Once you give an argument a default value (making it a keyword argument), no arguments that follow can be used positionally. For example:"
   ]
  },
  {
   "cell_type": "code",
   "execution_count": null,
   "metadata": {},
   "outputs": [],
   "source": [
    "def greet_customer(special_item=\"bananas\", grocery_store): # this is not valid\n",
    "  \n",
    " \n",
    "def greet_customer(special_item, grocery_store=\"Engrossing Grocers\"): # this is valid\n"
   ]
  },
  {
   "cell_type": "markdown",
   "metadata": {},
   "source": [
    "#### Application\n",
    "1. We have defined a function create_spreadsheet, which just takes in a title, and prints that it is creating a spreadsheet.\n",
    "\n",
    "Run the code to see the function work on an input of \"Downloads\"."
   ]
  },
  {
   "cell_type": "code",
   "execution_count": null,
   "metadata": {},
   "outputs": [],
   "source": [
    "# Define create_spreadsheet():\n",
    "def create_spreadsheet(title):\n",
    "    print(\"Creating a spreadsheet called \"+title)\n",
    "\n",
    "# Call create_spreadsheet() below with the required arguments:\n",
    "create_spreadsheet(\"Downloads\")"
   ]
  },
  {
   "cell_type": "markdown",
   "metadata": {},
   "source": [
    "2. Add the parameter row_count to the function definition. Set the default value to be 1000."
   ]
  },
  {
   "cell_type": "code",
   "execution_count": null,
   "metadata": {},
   "outputs": [],
   "source": []
  },
  {
   "cell_type": "markdown",
   "metadata": {},
   "source": [
    "3. Change the print statement in the function to print “Creating a spreadsheet called title with row_count rows”, where title and row_count are replaced with their respective values.\n",
    "\n",
    "Remember, to concatenate a number to a string object, you’ll first have to cast row_count to a string using str(). Otherwise, you’ll get a TypeError."
   ]
  },
  {
   "cell_type": "code",
   "execution_count": null,
   "metadata": {},
   "outputs": [],
   "source": []
  },
  {
   "cell_type": "markdown",
   "metadata": {},
   "source": [
    "4. Call create_spreadsheet() with title set to \"Applications\" and row_count set to 10."
   ]
  },
  {
   "cell_type": "code",
   "execution_count": null,
   "metadata": {},
   "outputs": [],
   "source": []
  },
  {
   "cell_type": "markdown",
   "metadata": {},
   "source": [
    "## Returns\n",
    "\n",
    "So far, we have only seen functions that print out some result to the console. Functions can also return a value to the user so that this value can be modified or used later. When there is a result from a function that can be stored in a variable, it is called a returned function value. We use the keyword return to do this.\n",
    "\n",
    "Here’s an example of a function divide_by_four that takes an integer argument, divides it by four, and returns the result:"
   ]
  },
  {
   "cell_type": "code",
   "execution_count": null,
   "metadata": {},
   "outputs": [],
   "source": [
    "def divide_by_four(input_number):\n",
    "    return input_number/4"
   ]
  },
  {
   "cell_type": "markdown",
   "metadata": {},
   "source": [
    "The program that calls divide_by_four can then use the result later:"
   ]
  },
  {
   "cell_type": "code",
   "execution_count": null,
   "metadata": {},
   "outputs": [],
   "source": [
    "result = divide_by_four(16)\n",
    "# result now holds 4\n",
    "print(\"16 divided by 4 is \" + str(result) + \"!\")\n",
    "result2 = divide_by_four(result)\n",
    "print(str(result) + \" divided by 4 is \" + str(result2) + \"!\")"
   ]
  },
  {
   "cell_type": "markdown",
   "metadata": {},
   "source": [
    "This would print out:\n",
    "\n",
    "16 divided by 4 is 4!\n",
    "\n",
    "4 divided by 4 is 1!\n",
    "\n",
    "In this example, we returned a number, but we could also return a String:"
   ]
  },
  {
   "cell_type": "code",
   "execution_count": null,
   "metadata": {},
   "outputs": [],
   "source": [
    "def create_special_string(special_item):\n",
    "    return \"Our special is \" + special_item + \".\"\n",
    " \n",
    "special_string = create_special_string(\"banana yogurt\")\n",
    " \n",
    "print(special_string)"
   ]
  },
  {
   "cell_type": "markdown",
   "metadata": {},
   "source": [
    "#### Application\n",
    "1. The function calculate_age below creates a variable called age that is the difference between the current year, and a birth year, both of which are inputs of the function. Add a line to return age."
   ]
  },
  {
   "cell_type": "code",
   "execution_count": null,
   "metadata": {},
   "outputs": [],
   "source": [
    "def calculate_age(current_year, birth_year):\n",
    "    age = current_year - birth_year"
   ]
  },
  {
   "cell_type": "markdown",
   "metadata": {},
   "source": [
    "2. Outside of the function, call calculate_age with values 2049 (current_year) and 1993 (birth_year) and save the value to a variable called my_age."
   ]
  },
  {
   "cell_type": "code",
   "execution_count": null,
   "metadata": {},
   "outputs": [],
   "source": []
  },
  {
   "cell_type": "markdown",
   "metadata": {},
   "source": [
    "3. Call calculate_age with values 2049 (current_year) and 1953 (birth_year) and save the value to a variable called dads_age.\n",
    "\n",
    "Print the string \"I am X years old and my dad is Y years old\" to the console, with my_age where the X is and dads_age where the Y is."
   ]
  },
  {
   "cell_type": "markdown",
   "metadata": {},
   "source": [
    "## Multiple Return Values\n",
    "Sometimes we may want to return more than one value from a function. We can return several values by separating them with a comma:"
   ]
  },
  {
   "cell_type": "code",
   "execution_count": null,
   "metadata": {},
   "outputs": [],
   "source": [
    "def square_point(x_value, y_value):\n",
    "    x_2 = x_value * x_value\n",
    "    y_2 = y_value * y_value\n",
    "    return x_2, y_2"
   ]
  },
  {
   "cell_type": "markdown",
   "metadata": {},
   "source": [
    "This function takes in an x value and a y value, and returns them both, squared. We can get those values by assigning them both to variables when we call the function:"
   ]
  },
  {
   "cell_type": "code",
   "execution_count": null,
   "metadata": {},
   "outputs": [],
   "source": [
    "x_squared, y_squared = square_point(1, 3)\n",
    "print(x_squared)\n",
    "print(y_squared)"
   ]
  },
  {
   "cell_type": "markdown",
   "metadata": {},
   "source": [
    "This will print:\n",
    "\n",
    "1\n",
    "\n",
    "9"
   ]
  },
  {
   "cell_type": "markdown",
   "metadata": {},
   "source": [
    "#### Application\n",
    "1. Write a function called <mark>get_boundaries()</mark> that takes in two parameters, a number called <mark>target</mark> and a number called <mark>margin</mark>.\n",
    "\n",
    "It should create two variables:\n",
    "\n",
    "<mark>low_limit</mark>: <mark>target</mark> minus the <mark>margin</mark>\n",
    "\n",
    "<mark>high_limit</mark>: <mark>margin</mark> added to <mark>target</mark>"
   ]
  },
  {
   "cell_type": "code",
   "execution_count": null,
   "metadata": {},
   "outputs": [],
   "source": []
  },
  {
   "cell_type": "markdown",
   "metadata": {},
   "source": [
    "2. Return both <mark>low_limit</mark> and <mark>high_limit</mark> from the function, in that order."
   ]
  },
  {
   "cell_type": "code",
   "execution_count": null,
   "metadata": {},
   "outputs": [],
   "source": []
  },
  {
   "cell_type": "markdown",
   "metadata": {},
   "source": [
    "3. Call the function on the target <mark>100</mark> with a margin of <mark>20</mark>. Save the returned values to variables called <mark>low</mark> and <mark>high</mark>."
   ]
  },
  {
   "cell_type": "code",
   "execution_count": null,
   "metadata": {},
   "outputs": [],
   "source": []
  },
  {
   "cell_type": "markdown",
   "metadata": {},
   "source": [
    "## Scope\n",
    "Let’s say we have our function from the last exercise that creates a string about a special item:"
   ]
  },
  {
   "cell_type": "code",
   "execution_count": null,
   "metadata": {},
   "outputs": [],
   "source": [
    "def create_special_string(special_item):\n",
    "    return \"Our special is \" + special_item + \".\""
   ]
  },
  {
   "cell_type": "markdown",
   "metadata": {},
   "source": [
    "What if we wanted to access the variable <mark>special_item</mark> outside of the function? Could we use it?"
   ]
  },
  {
   "cell_type": "code",
   "execution_count": null,
   "metadata": {},
   "outputs": [],
   "source": [
    "def create_special_string(special_item):\n",
    "    return \"Our special is \" + special_item + \".\"\n",
    " \n",
    "print(\"I don't like \" + special_item)"
   ]
  },
  {
   "cell_type": "markdown",
   "metadata": {},
   "source": [
    "If we try to run this code, we will get a NameError, telling us that <mark>'special_item'</mark> is <mark>not defined</mark>. The variable <mark>special_item</mark> has only been defined inside the space of a function, so it does not exist outside the function. We call the part of a program where <mark>special_item</mark> can be accessed its scope. The scope of <mark>special_item</mark> is only the <mark>create_special_string</mark> function.\n",
    "\n",
    "Variables defined outside the scope of a function may be accessible inside the body of the function:"
   ]
  },
  {
   "cell_type": "code",
   "execution_count": null,
   "metadata": {},
   "outputs": [],
   "source": [
    "header_string = \"Our special is \" \n",
    " \n",
    "def create_special_string(special_item):\n",
    "    return header_string + special_item + \".\"\n",
    "print(create_special_string(\"grapes\"))"
   ]
  },
  {
   "cell_type": "markdown",
   "metadata": {},
   "source": [
    "There is no error here. <mark>header_string</mark> can be used inside the <mark>create_special_string</mark> function because the scope of <mark>header_string</mark> is the whole file. This file would produce:\n",
    "\n",
    "Our special is grapes."
   ]
  },
  {
   "cell_type": "markdown",
   "metadata": {},
   "source": [
    "#### Application\n",
    "1. Outside of the function <mark>calculate_age()</mark>, try to print <mark>current_year</mark>. Does it work?"
   ]
  },
  {
   "cell_type": "code",
   "execution_count": null,
   "metadata": {},
   "outputs": [],
   "source": [
    "def calculate_age(current_year, birth_year):\n",
    "    age = current_year - birth_year\n",
    "    return age"
   ]
  },
  {
   "cell_type": "markdown",
   "metadata": {},
   "source": [
    "2. What about <mark>age</mark>? Outside of <mark>calculate_age()</mark>, try to print <mark>age</mark>. Does it work?"
   ]
  },
  {
   "cell_type": "code",
   "execution_count": null,
   "metadata": {},
   "outputs": [],
   "source": [
    "def calculate_age(current_year, birth_year):\n",
    "    age = current_year - birth_year\n",
    "    return age"
   ]
  },
  {
   "cell_type": "markdown",
   "metadata": {},
   "source": [
    "3. No! Even though we return <mark>age</mark> at the end of the function, the variable <mark>age</mark> still only exists within the context of the function.\n",
    "\n",
    "Remove both print statements."
   ]
  },
  {
   "cell_type": "code",
   "execution_count": null,
   "metadata": {},
   "outputs": [],
   "source": [
    "def calculate_age(current_year, birth_year):\n",
    "    age = current_year - birth_year\n",
    "    return age"
   ]
  },
  {
   "cell_type": "markdown",
   "metadata": {},
   "source": [
    "4. Let’s try something different. Remove the parameter <mark>current_year</mark> so that it is no longer a parameter of <mark>calculate_age()</mark>."
   ]
  },
  {
   "cell_type": "code",
   "execution_count": null,
   "metadata": {},
   "outputs": [],
   "source": [
    "def calculate_age(current_year, birth_year):\n",
    "    age = current_year - birth_year\n",
    "    return age"
   ]
  },
  {
   "cell_type": "markdown",
   "metadata": {},
   "source": [
    "5. It’s the year 2048.\n",
    "\n",
    "Define <mark>current_year</mark> as a variable BEFORE defining the function and give it the value <mark>2048</mark>. Now, every time <mark>calculate_age()</mark> is called, it should only take <mark>birth_year</mark>."
   ]
  },
  {
   "cell_type": "code",
   "execution_count": null,
   "metadata": {},
   "outputs": [],
   "source": [
    "def calculate_age(birth_year):\n",
    "    age = birth_year\n",
    "    return age\n",
    "  "
   ]
  },
  {
   "cell_type": "markdown",
   "metadata": {},
   "source": [
    "6. Try to print <mark>current_year</mark> one last time. Does it work finally?"
   ]
  },
  {
   "cell_type": "code",
   "execution_count": null,
   "metadata": {},
   "outputs": [],
   "source": [
    "def calculate_age(birth_year):\n",
    "    age = birth_year\n",
    "    return age"
   ]
  },
  {
   "cell_type": "markdown",
   "metadata": {},
   "source": [
    "7. Hooray! Now we have <mark>current_year</mark> globally defined. Great work!\n",
    "\n",
    "Let’s make sure our function still works: print the value of <mark>calculate_age()</mark> with <mark>1970</mark> as the argument."
   ]
  },
  {
   "cell_type": "code",
   "execution_count": null,
   "metadata": {},
   "outputs": [],
   "source": [
    "current_year = 2048  #global variable\n",
    "def calculate_age(current_year, birth_year):\n",
    "  age = current_year - birth_year\n",
    "  return age\n",
    "  \n"
   ]
  },
  {
   "cell_type": "markdown",
   "metadata": {},
   "source": [
    "## Review\n",
    "Great! So far you have learned:\n",
    "\n",
    "- How to write a function\n",
    "- How to give a function inputs\n",
    "- How to return values from a function\n",
    "- What scope means\n",
    "\n",
    "Let’s practice these concepts again so that you won’t forget them!"
   ]
  },
  {
   "cell_type": "markdown",
   "metadata": {},
   "source": [
    "#### Application\n",
    "1. Define a function called repeat_stuff that takes in two inputs, stuff, and num_repeats.\n",
    "\n",
    "We will want to make this function print a string with stuff repeated num_repeats amount of times. For now, only put an empty print statement inside the function."
   ]
  },
  {
   "cell_type": "code",
   "execution_count": null,
   "metadata": {},
   "outputs": [],
   "source": []
  },
  {
   "cell_type": "markdown",
   "metadata": {},
   "source": [
    "2. Outside of the function, call repeat_stuff.\n",
    "\n",
    "You can use the value \"Row \" for stuff and 3 for num_repeats."
   ]
  },
  {
   "cell_type": "code",
   "execution_count": null,
   "metadata": {},
   "outputs": [],
   "source": []
  },
  {
   "cell_type": "markdown",
   "metadata": {},
   "source": [
    "3. Change the print statement inside repeat_stuff to a return statement instead.\n",
    "\n",
    "It should return stuff*num_repeats.\n",
    "\n",
    "Note: Multiplying a string just makes a new string with the old one repeated! For example:\n",
    "\n",
    "\"na\"*6\n",
    "\n",
    "results in the string \"nananananana\"."
   ]
  },
  {
   "cell_type": "code",
   "execution_count": null,
   "metadata": {},
   "outputs": [],
   "source": []
  },
  {
   "cell_type": "markdown",
   "metadata": {},
   "source": [
    "4. Give the parameter num_repeats a default value of 10."
   ]
  },
  {
   "cell_type": "code",
   "execution_count": null,
   "metadata": {},
   "outputs": [],
   "source": []
  },
  {
   "cell_type": "markdown",
   "metadata": {},
   "source": [
    "5. Add repeat_stuff(\"Row \", 3) and the string \"Your Boat. \" together and save the result to a variable called lyrics."
   ]
  },
  {
   "cell_type": "code",
   "execution_count": null,
   "metadata": {},
   "outputs": [],
   "source": []
  },
  {
   "cell_type": "markdown",
   "metadata": {},
   "source": [
    "6. Create a variable called song and assign it the value of repeat_stuff called with the singular input lyrics."
   ]
  },
  {
   "cell_type": "code",
   "execution_count": null,
   "metadata": {},
   "outputs": [],
   "source": []
  },
  {
   "cell_type": "markdown",
   "metadata": {},
   "source": [
    "7. Print song."
   ]
  },
  {
   "cell_type": "markdown",
   "metadata": {},
   "source": [
    "## Lesson Quiz"
   ]
  },
  {
   "cell_type": "markdown",
   "metadata": {},
   "source": [
    "Q#1. Given the following function, what will produce the output \"There is no greater agony than bearing an untold story inside you.\"?\n"
   ]
  },
  {
   "cell_type": "code",
   "execution_count": null,
   "metadata": {},
   "outputs": [],
   "source": [
    "def quote(x):\n",
    "  print(\"There is no greater agony than bearing \" + x + \" inside you.\")\n"
   ]
  },
  {
   "cell_type": "markdown",
   "metadata": {},
   "source": [
    "A. quote(an untold story)\n",
    "\n",
    "\n",
    "B. quote(\"an untold story\")\n",
    "\n",
    "\n",
    "C. def quote(\"an untold story\")\n",
    "\n",
    "\n",
    "D. quote()"
   ]
  },
  {
   "cell_type": "markdown",
   "metadata": {},
   "source": [
    "Q#2. What line of code will call force with a value of 10 for mass and a value of 9.81 for acceleration?"
   ]
  },
  {
   "cell_type": "code",
   "execution_count": null,
   "metadata": {},
   "outputs": [],
   "source": [
    "def force(mass, acceleration):\n",
    "  force_val = mass*acceleration\n",
    "  return force_val"
   ]
  },
  {
   "cell_type": "markdown",
   "metadata": {},
   "source": [
    "A. force(10, mass=9.81)\n",
    "\n",
    "\n",
    "B. force(10, 9.81)\n",
    "\n",
    "\n",
    "C. force(mass=10, 9.81)\n",
    "\n",
    "\n",
    "D. force(9.81, 10)"
   ]
  },
  {
   "cell_type": "markdown",
   "metadata": {},
   "source": [
    "Q#3. What line of code can be used to return a variable inner_var from a function back to the piece of code that called the function?\n",
    "\n",
    "\n",
    "A. return inner_var\n",
    "\n",
    "\n",
    "B. print(inner_var)\n",
    "\n",
    "\n",
    "C. def inner_var\n",
    "\n",
    "\n",
    "D. inner_var = None"
   ]
  },
  {
   "cell_type": "markdown",
   "metadata": {},
   "source": [
    "Q#4. How do you call update with a new_value of 20?\n",
    "\n"
   ]
  },
  {
   "cell_type": "code",
   "execution_count": null,
   "metadata": {},
   "outputs": [],
   "source": [
    "def update(new_value = 10):\n",
    "  old_value = new_value\n"
   ]
  },
  {
   "cell_type": "markdown",
   "metadata": {},
   "source": [
    "A. update()\n",
    "\n",
    "\n",
    "B. update(20)\n",
    "\n",
    "\n",
    "C. def update(20)\n",
    "\n",
    "\n",
    "D. update"
   ]
  },
  {
   "cell_type": "markdown",
   "metadata": {},
   "source": [
    "Q#5. What happens when you call report()?\n"
   ]
  },
  {
   "cell_type": "code",
   "execution_count": null,
   "metadata": {},
   "outputs": [],
   "source": [
    "time = \"3pm\"\n",
    "mood = \"good\"\n",
    " \n",
    "def report():\n",
    "  print(\"The current time is \" + time)\n",
    "  print(\"The mood is \" + mood)\n",
    " \n",
    "print(\"Beginning of report\")\n",
    " \n",
    "report()"
   ]
  },
  {
   "cell_type": "markdown",
   "metadata": {},
   "source": [
    "A. Two Strings are printed: \"The current time is 3pm\" and \"The mood is good\"\n",
    "\n",
    "\n",
    "B. Three Strings are printed: \"Beginning of report\", \"The current time is 3pm\", \"The mood is good\"\n",
    "\n",
    "\n",
    "C. One String is printed: \"The current time is 3pm\"\n",
    "\n",
    "\n",
    "D. Two Strings are printed: \"The current time is \" and \"The mood is \""
   ]
  },
  {
   "cell_type": "markdown",
   "metadata": {},
   "source": [
    "Q#6. Which variables can be called in the blank spot in this code:"
   ]
  },
  {
   "cell_type": "code",
   "execution_count": null,
   "metadata": {},
   "outputs": [],
   "source": [
    "counter = 0\n",
    " \n",
    "def update():\n",
    "  new_counter = counter + 1\n",
    "  return new_counter\n",
    " "
   ]
  },
  {
   "cell_type": "markdown",
   "metadata": {},
   "source": [
    "A. Just counter.\n",
    "\n",
    "\n",
    "B. Just new_counter\n",
    "\n",
    "\n",
    "C. counter and new_counter\n",
    "\n",
    "\n",
    "D. Neither counter nor new_counter."
   ]
  },
  {
   "cell_type": "markdown",
   "metadata": {},
   "source": [
    "Ans#6. new_counter only exists inside of update, whereas counter is global and can be accessed anywhere.\n"
   ]
  },
  {
   "cell_type": "markdown",
   "metadata": {},
   "source": [
    "## Python Code Challenges: Functions"
   ]
  },
  {
   "cell_type": "markdown",
   "metadata": {},
   "source": [
    "This article will help you review Python functions by providing some code challenges.\n",
    "\n",
    "Some of these challenges are difficult! Take some time to think about them before starting to code.\n",
    "\n",
    "You might not get the solution correct on your first try — look at your output, try to find where you’re going wrong, and iterate on your solution."
   ]
  },
  {
   "cell_type": "markdown",
   "metadata": {},
   "source": [
    "Function Syntax\n",
    "As a refresher, function syntax looks like this:"
   ]
  },
  {
   "cell_type": "code",
   "execution_count": null,
   "metadata": {},
   "outputs": [],
   "source": [
    "def some_function(some_input1, some_input2):\n",
    "  # … do something with the inputs …\n",
    "  return output"
   ]
  },
  {
   "cell_type": "markdown",
   "metadata": {},
   "source": [
    "For example, a function that returns the sum of the first and last elements of a given list might look like this:"
   ]
  },
  {
   "cell_type": "code",
   "execution_count": null,
   "metadata": {},
   "outputs": [],
   "source": [
    "def first_plus_last(lst):\n",
    "    return lst[0] + lst[-1]"
   ]
  },
  {
   "cell_type": "markdown",
   "metadata": {},
   "source": [
    "And this would produce output like:\n",
    "first_plus_last([1, 2, 3, 4])\n",
    "    \n",
    "5\n",
    "\n",
    "first_plus_last([8, 2, 5, -8])\n",
    "\n",
    "0\n",
    "\n",
    "first_plus_last([-10, 2, 3, -4])\n",
    "\n",
    "-14"
   ]
  },
  {
   "cell_type": "markdown",
   "metadata": {},
   "source": [
    "## Challenges\n",
    "We’ve included 5 challenges below. Try to answer all of them and polish up your problem-solving skills and your function expertise.\n",
    "\n",
    "1. Tenth Power"
   ]
  },
  {
   "cell_type": "markdown",
   "metadata": {},
   "source": [
    "Write a function named tenth_power() that has one parameter named num.\n",
    "\n",
    "The function should return num raised to the 10th power.\n",
    "\n"
   ]
  },
  {
   "cell_type": "code",
   "execution_count": null,
   "metadata": {},
   "outputs": [],
   "source": [
    "# Write your tenth_power function here:\n",
    "\n",
    "# Uncomment these function calls to test your tenth_power function:\n",
    "#print(tenth_power(1))\n",
    "# 1 to the 10th power is 1\n",
    "#print(tenth_power(0))\n",
    "# 0 to the 10th power is 0\n",
    "#print(tenth_power(2))\n",
    "# 2 to the 10th power is 1024"
   ]
  },
  {
   "cell_type": "markdown",
   "metadata": {},
   "source": [
    "2. Square Root\n",
    "\n",
    "Write a function named square_root() that has one parameter named num.\n",
    "\n",
    "Use exponents (**) to return the square root of num."
   ]
  },
  {
   "cell_type": "code",
   "execution_count": null,
   "metadata": {},
   "outputs": [],
   "source": [
    "# Write your square_root function here:\n",
    "\n",
    "# Uncomment these function calls to test your square_root function:\n",
    "#print(square_root(16))\n",
    "# should print 4\n",
    "#print(square_root(100))\n",
    "# should print 10"
   ]
  },
  {
   "cell_type": "markdown",
   "metadata": {},
   "source": [
    "3. Win Percentage\n",
    "Create a function called win_percentage() that takes two parameters named wins and losses.\n",
    "\n",
    "This function should return out the total percentage of games won by a team based on these two numbers."
   ]
  },
  {
   "cell_type": "code",
   "execution_count": null,
   "metadata": {},
   "outputs": [],
   "source": [
    "# Write your win_percentage function here:\n",
    "\n",
    "# Uncomment these function calls to test your win_percentage function:\n",
    "#print(win_percentage(5, 5))\n",
    "# should print 50\n",
    "#print(win_percentage(10, 0))\n",
    "# should print 100"
   ]
  },
  {
   "cell_type": "markdown",
   "metadata": {},
   "source": [
    "4. Average\n",
    "Write a function named average() that has two parameters named num1 and num2.\n",
    "\n",
    "The function should return the average of these two numbers."
   ]
  },
  {
   "cell_type": "code",
   "execution_count": null,
   "metadata": {},
   "outputs": [],
   "source": [
    "# Write your average function here:\n",
    "\n",
    "# Uncomment these function calls to test your average function:\n",
    "#print(average(1, 100))\n",
    "# The average of 1 and 100 is 50.5\n",
    "#print(average(1, -1))\n",
    "# The average of 1 and -1 is 0"
   ]
  },
  {
   "cell_type": "markdown",
   "metadata": {},
   "source": [
    "5. Remainder\n",
    "Write a function named remainder() that has two parameters named num1 and num2.\n",
    "\n",
    "The function should return the remainder of twice num1 divided by half of num2."
   ]
  },
  {
   "cell_type": "code",
   "execution_count": null,
   "metadata": {},
   "outputs": [],
   "source": [
    "# Write your remainder function here:\n",
    "\n",
    "# Uncomment these function calls to test your remainder function:\n",
    "#print(remainder(15, 14))\n",
    "# should print 2\n",
    "#print(remainder(9, 6))\n",
    "# should print 0"
   ]
  },
  {
   "cell_type": "code",
   "execution_count": null,
   "metadata": {},
   "outputs": [],
   "source": []
  },
  {
   "cell_type": "code",
   "execution_count": 7,
   "metadata": {},
   "outputs": [],
   "source": []
  },
  {
   "cell_type": "code",
   "execution_count": null,
   "metadata": {},
   "outputs": [],
   "source": []
  }
 ],
 "metadata": {
  "kernelspec": {
   "display_name": "Python 3",
   "language": "python",
   "name": "python3"
  },
  "language_info": {
   "codemirror_mode": {
    "name": "ipython",
    "version": 3
   },
   "file_extension": ".py",
   "mimetype": "text/x-python",
   "name": "python",
   "nbconvert_exporter": "python",
   "pygments_lexer": "ipython3",
   "version": "3.8.3"
  }
 },
 "nbformat": 4,
 "nbformat_minor": 4
}
