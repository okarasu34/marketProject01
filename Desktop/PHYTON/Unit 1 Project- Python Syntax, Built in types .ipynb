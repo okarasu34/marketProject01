{
 "cells": [
  {
   "cell_type": "markdown",
   "metadata": {},
   "source": [
    "## Medical Insurance Project\n",
    "\n",
    "Suppose you are a medical professional curious about how certain factors contribute to medical insurance costs. Using a formula that estimates a person’s yearly insurance costs, you will investigate how different factors such as age, sex, BMI, etc. affect the prediction."
   ]
  },
  {
   "cell_type": "markdown",
   "metadata": {},
   "source": [
    "1. Our first step is to create the variables for each factor we will consider when estimating medical insurance costs.\n",
    "\n",
    "These are the variables we will need to create:\n",
    "\n",
    "age: age of the individual in years\n",
    "\n",
    "sex: 0 for female, 1 for male*\n",
    "\n",
    "bmi: individual’s body mass index\n",
    "\n",
    "num_of_children: number of children the individual has\n",
    "\n",
    "smoker: 0 for a non-smoker, 1 for a smoker\n",
    "\n",
    "At the top of script.py, create the following variables for a 28-year-old, nonsmoking woman who has three children and a BMI of 26.2.\n",
    "\n",
    "*We are using this medical insurance dataset as a guide, which unfortunately does not include data for non-binary individuals."
   ]
  },
  {
   "cell_type": "code",
   "execution_count": null,
   "metadata": {},
   "outputs": [],
   "source": [
    "# create the initial variables below\n",
    "\n",
    "\n",
    "\n",
    "\n",
    "\n",
    "# Age Factor\n",
    "\n",
    "\n",
    "# BMI Factor\n",
    "\n",
    "\n",
    "# Male vs. Female Factor\n",
    "\n",
    "\n",
    "# Extra Practice"
   ]
  },
  {
   "cell_type": "markdown",
   "metadata": {},
   "source": [
    "### Working with the Formula\n",
    "\n",
    "2. After the declaration of the variables, create a variable called insurance_cost that utilizes the following formula:\n",
    "\n",
    "insurance_cost = 250 * age - 128 * sex\n",
    "+370 * bmi + 425 * num_of_children + 24000 * smoker - 12500\n"
   ]
  },
  {
   "cell_type": "markdown",
   "metadata": {},
   "source": [
    "3.\n",
    "Let’s display this value in an informative way. Print out the following string in the terminal:\n",
    "\n",
    "This person's insurance cost is {insurance_cost} dollars.\n",
    "\n",
    "You will need to use string concatenation, including the str() function to print out the insurance_cost.\n",
    "\n",
    "Please code in the cell below."
   ]
  },
  {
   "cell_type": "code",
   "execution_count": null,
   "metadata": {},
   "outputs": [],
   "source": [
    "# Add insurance estimate formula below\n"
   ]
  },
  {
   "cell_type": "code",
   "execution_count": null,
   "metadata": {},
   "outputs": [],
   "source": []
  },
  {
   "cell_type": "markdown",
   "metadata": {},
   "source": [
    "#### Looking at Age Factor\n",
    "\n",
    "4. We have seen how our formula can estimate costs for one individual. Now let’s play with some individual factors to see what role each one plays in our estimation!\n",
    "\n",
    "Let’s start with the age factor. Using a plus-equal operator, add 4 years to our age variable.\n",
    "\n",
    "Please code in the cell below."
   ]
  },
  {
   "cell_type": "markdown",
   "metadata": {},
   "source": [
    "5. Now that we have changed our age value, we want to recalculate our insurance cost. Declare a new variable called new_insurance_cost underneath the expression that increased age by 4.\n",
    "\n",
    "Make sure you leave the line with the insurance_cost variable the same. We will use it later in our program!\n",
    "\n",
    "Please code in the cell below"
   ]
  },
  {
   "cell_type": "markdown",
   "metadata": {},
   "source": [
    "6. Next, we want to find the difference between our <mark>new_insurance_cost</mark> and <mark>insurance_cost</mark>. To do this, let’s create a new variable called <mark>change_in_insurance_cost</mark> and set it equal to the difference between <mark>new_insurance_cost</mark> and <mark>insurance_cost</mark>.\n",
    "\n",
    "\n",
    "\n",
    "Note: depending on the order that we subtract (eg., <mark>new_insurance_cost - insurance_cost</mark> vs. <mark>insurance_cost - new_insurance_cost</mark>), we’ll get a positive or negative version of the same number. To make this difference interpretable, let’s calculate <mark>new_insurance_cost - insurance_cost</mark>. Then we can say, “people who are four years older have estimated insurance costs that are <mark>change_in_insurance_cost</mark> dollars different, where the sign of <mark>change_in_insurance_cost</mark> tells us whether the cost is higher or lower."
   ]
  },
  {
   "cell_type": "markdown",
   "metadata": {},
   "source": [
    "7. We want to display this information in an informative way similar to the output from instruction 3 . On the next line, print the following string in the terminal, where XXX is replaced by the value of change_in_insurance_cost:\n",
    "\n",
    "The change in cost of insurance after increasing the age by 4 years is XXX dollars.\n",
    "Doing this will tell us how 4 years in age affects medical insurance cost estimates assuming that all other variables remain the same.\n",
    "\n",
    "You will need to concatenate strings and use the str() method.\n",
    "\n",
    "Please code in the cell below"
   ]
  },
  {
   "cell_type": "code",
   "execution_count": null,
   "metadata": {},
   "outputs": [],
   "source": [
    "# Age Factor\n"
   ]
  },
  {
   "cell_type": "markdown",
   "metadata": {},
   "source": [
    "#### Looking at BMI Factor\n",
    "8. Now that you have looked at the age factor, let’s move onto another one: BMI. First, we have to redefine our age variable to be its original value.\n",
    "\n",
    "Set age to 28 following your last piece of code. This will reset its value and allow us to focus on just the change in the BMI factor moving forward.\n",
    "\n",
    "On the next line, using the plus-equal operator, add 3.1 to our bmi variable."
   ]
  },
  {
   "cell_type": "markdown",
   "metadata": {},
   "source": [
    "9. Now let’s find out how a change in BMI affects insurance costs. Our next steps are pretty much the same as we have done before when looking at age.\n",
    "\n",
    "Below the line where bmi was increased by 3.1, rewrite the insurance cost formula and assign it to the variable name new_insurance_cost.\n",
    "\n",
    "Save the difference between new_insurance_cost and insurance_cost in a variable called change_in_insurance_cost\n",
    "\n",
    "Display the following string in the output terminal, where XXX is replaced by the value of change_in_insurance_cost:\n",
    "\n",
    "The change in estimated insurance cost after increasing BMI by 3.1 is XXX dollars.\n",
    "You can leave the code above it as is, including the print statements."
   ]
  },
  {
   "cell_type": "code",
   "execution_count": null,
   "metadata": {},
   "outputs": [],
   "source": [
    "# BMI Factor\n"
   ]
  },
  {
   "cell_type": "markdown",
   "metadata": {},
   "source": [
    "### Looking at Male vs. Female Factor\n",
    "10. Let’s look at the effect sex has on medical insurance costs. Before we make any additional changes, first reassign your bmi variable back to its original value of 26.2.\n",
    "\n",
    "On a new line of code, reassign the value of sex to 1. A reminder that 1 identifies male individuals and 0 identifies female individuals."
   ]
  },
  {
   "cell_type": "markdown",
   "metadata": {},
   "source": [
    "11.Perform the steps below!\n",
    "\n",
    "- Rewrite the insurance cost formula and assign it to the variable name new_insurance_cost.\n",
    "\n",
    "- Save the difference between new_insurance_cost and insurance_cost in a variable called change_in_insurance_cost.\n",
    "\n",
    "- Display the following string in the output terminal, where XXX is replaced by the value of change_in_insurance_cost:\n",
    "\n",
    "The change in estimated cost for being male instead of female is XXX dollars."
   ]
  },
  {
   "cell_type": "markdown",
   "metadata": {},
   "source": [
    "12. Notice that this time you got a negative value for change_in_insurance_cost. Let’s think about what this means. We changed the sex variable from 0 (female) to 1 (male) and it decreased the estimated insurance costs.\n",
    "\n",
    "This means that men tend to have lower medical costs on average than women. Reflect on the other findings you have dug up from this investigation so far."
   ]
  },
  {
   "cell_type": "code",
   "execution_count": null,
   "metadata": {},
   "outputs": [],
   "source": [
    "# Male vs. Female Factor\n"
   ]
  },
  {
   "cell_type": "markdown",
   "metadata": {},
   "source": [
    "Extra Practice\n",
    "\n",
    "\n",
    "13. Great job on the project!!!\n",
    "\n",
    "So far we have looked at 3 of the 5 factors in the insurance costs formula. The two remaining are smoker and num_of_children. If you want to keep challenging yourself, spend some time investigating these factors!\n",
    "\n",
    "- Rewrite the insurance cost formula and assign it to the variable name new_insurance_cost.\n",
    "\n",
    "- Save the difference between new_insurance_cost and insurance_cost in a variable called change_in_insurance_cost\n",
    "\n",
    "- Display the information in the terminal!"
   ]
  },
  {
   "cell_type": "code",
   "execution_count": null,
   "metadata": {},
   "outputs": [],
   "source": [
    "# Extra Practice\n"
   ]
  }
 ],
 "metadata": {
  "kernelspec": {
   "display_name": "Python 3",
   "language": "python",
   "name": "python3"
  },
  "language_info": {
   "codemirror_mode": {
    "name": "ipython",
    "version": 3
   },
   "file_extension": ".py",
   "mimetype": "text/x-python",
   "name": "python",
   "nbconvert_exporter": "python",
   "pygments_lexer": "ipython3",
   "version": "3.8.3"
  }
 },
 "nbformat": 4,
 "nbformat_minor": 4
}
